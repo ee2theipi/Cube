{
 "cells": [
  {
   "cell_type": "code",
   "execution_count": null,
   "metadata": {
    "vscode": {
     "languageId": "python"
    }
   },
   "outputs": [],
   "source": [
    "a = PermutationGroup(['(1,2,3)(4,5)'])\n",
    "print(a)\n",
    "b = PermutationGroup(['(7,9)'])\n",
    "print(b)\n",
    "#print(a*b)\n",
    "a1 = a.random_element()\n",
    "b1 = b.random_element()\n",
    "print(f\"{a1} and {b1}\")\n",
    "print(a1*b1)"
   ]
  },
  {
   "cell_type": "code",
   "execution_count": 2,
   "metadata": {
    "vscode": {
     "languageId": "python"
    }
   },
   "outputs": [
    {
     "name": "stdout",
     "output_type": "stream",
     "text": [
      "(6,25,43,16)(7,28,42,13)(8,30,41,11)(17,19,24,22)(18,21,23,20)\n",
      "(6,16,43,25)(7,13,42,28)(8,11,41,30)(17,22,24,19)(18,20,23,21)\n",
      "(1,27,48,14)(2,29,47,12)(3,32,46,9)(33,38,40,35)(34,36,39,37)\n",
      "(1,40,41,17)(4,37,44,20)(6,35,46,22)(9,14,16,11)(10,12,15,13)\n",
      "(3,19,43,38)(5,21,45,36)(8,24,48,33)(25,30,32,27)(26,28,31,29)\n",
      "(1,6,8,3)(2,4,7,5)(9,17,25,33)(10,18,26,34)(11,19,27,35)\n",
      "(14,38,30,22)(15,39,31,23)(16,40,32,24)(41,46,48,43)(42,44,47,45)\n"
     ]
    }
   ],
   "source": [
    "moves = PermutationGroup(['(17, 19, 24, 22)(18, 21, 23, 20)(6, 25, 43, 16)(7, 28, 42, 13)(8, 30, 41, 11)', \n",
    "                          '(33, 35, 40, 38)(34, 37, 39, 36)(3, 9, 46, 32)(2, 12, 47, 29)(1, 14, 48, 27)', \n",
    "                          '(9, 11, 16, 14)(10, 13, 15, 12)(1, 17, 41, 40)(4, 20, 44, 37)(6, 22, 46, 35)',\n",
    "                          '(25, 27, 32, 30)(26, 29, 31, 28)(3, 38, 43, 19)(5, 36, 45, 21)(8, 33, 48, 24)',\n",
    "                          '(1, 3, 8, 6)(2, 5, 7, 4)(9, 33, 25, 17)(10, 34, 26, 18)(11, 35, 27, 19)',\n",
    "                          '(41, 43, 48, 46)(42, 45, 47, 44)(14, 22, 30, 38)(15, 23, 31, 39)(16, 24, 32, 40)'])\n",
    "\n",
    "F = moves('(17, 19, 24, 22)(18, 21, 23, 20)(6, 25, 43, 16)(7, 28, 42, 13)(8, 30, 41, 11)')\n",
    "B = moves('(33, 35, 40, 38)(34, 37, 39, 36)(3, 9, 46, 32)(2, 12, 47, 29)(1, 14, 48, 27)')\n",
    "L = moves('( 9,11,16,14)(10,13,15,12)( 1,17,41,40)( 4,20,44,37)( 6,22,46,35)')\n",
    "R = moves('(25, 27, 32, 30)(26, 29, 31, 28)(3, 38, 43, 19)(5, 36, 45, 21)(8, 33, 48, 24)') \n",
    "U = moves('(1, 3, 8, 6)(2, 5, 7, 4)(9, 33, 25, 17)(10, 34, 26, 18)(11, 35, 27, 19)')\n",
    "D = moves('(41, 43, 48, 46)(42, 45, 47, 44)(14, 22, 30, 38)(15, 23, 31, 39)(16, 24, 32, 40)')\n",
    "\n",
    "#for i in F:\n",
    "    #print(i)\n",
    "#    i = list(i)\n",
    "#    #print(i)\n",
    "#    a = [F(x) for x in [17,28,11]]\n",
    "    #print(a[1])\n",
    "\n",
    "print(F)\n",
    "f = F*F*F\n",
    "b = B*B*B\n",
    "l = L*L*L\n",
    "r = R*R*R\n",
    "u = U*U*U\n",
    "d = D*D*D\n",
    "print(f)\n",
    "print(b)\n",
    "print(l)\n",
    "print(r)\n",
    "print(u)\n",
    "print(d)"
   ]
  },
  {
   "cell_type": "code",
   "execution_count": null,
   "metadata": {
    "vscode": {
     "languageId": "python"
    }
   },
   "outputs": [],
   "source": [
    "def configuration():\n",
    "    for i in range(7):\n",
    "        int(input(f\"W{i} is at position: \"))\n",
    "        int(input(f\"R{i} is at position: \"))\n",
    "        int(input(f\"O{i} is at position: \"))\n",
    "        int(input(f\"B{i} is at position: \"))\n",
    "        int(input(f\"G{i} is at position: \"))\n",
    "        int(input(f\"Y{i} is at position: \"))\n",
    "#configuration()"
   ]
  },
  {
   "cell_type": "code",
   "execution_count": 1,
   "metadata": {
    "vscode": {
     "languageId": "python"
    }
   },
   "outputs": [],
   "source": [
    "cube = CubeGroup()\n",
    "F = cube.F()\n",
    "B = cube.B()\n",
    "L = cube.L()\n",
    "R = cube.R()\n",
    "U = cube.U()\n",
    "D = cube.D()\n",
    "f = F*F*F\n",
    "b = B*B*B\n",
    "l = L*L*L\n",
    "r = R*R*R\n",
    "u = U*U*U\n",
    "d = D*D*D"
   ]
  },
  {
   "cell_type": "code",
   "execution_count": null,
   "metadata": {
    "vscode": {
     "languageId": "python"
    }
   },
   "outputs": [],
   "source": [
    "\n",
    "#RubiksCube().move('F*B*U*U*R*F*F*R*R*B*B*U*U*U*D*F*U*U*R*R*R*L*L*L*U*B*B*D*R*R*U*B*B*U').show3d()\n",
    "#RubiksCube().move('R*U*R*R*F*B*R*B*B*R*U*U*L*B*B*R*U*U*U*D*D*D*R*R*F*R*R*R*L*B*B*U*U*F*F').show3d()\n",
    "\n",
    "print(order(moves))\n",
    "dmm = []\n",
    "dmm.append('(1,2,3)(5,6)')\n",
    "ggg = PermutationGroup(dmm)\n",
    "print(ggg.order())\n"
   ]
  },
  {
   "cell_type": "code",
   "execution_count": null,
   "metadata": {
    "vscode": {
     "languageId": "python"
    }
   },
   "outputs": [],
   "source": [
    "inv = moves.random_element()\n",
    "print(inv)\n",
    "print(inv.inverse())\n",
    "if inv.inverse() in moves:\n",
    "    print('yes')\n",
    "else:\n",
    "    print('no')"
   ]
  },
  {
   "cell_type": "code",
   "execution_count": 12,
   "metadata": {
    "vscode": {
     "languageId": "python"
    }
   },
   "outputs": [
    {
     "name": "stdout",
     "output_type": "stream",
     "text": [
      "(1,9,35)(2,45,23,20,44,37)(3,48,22,46,30,19,33,32,41,40,43,8,27,38,16,14,24,25)(4,18,10,7)(5,26)(6,17,11)(12,34,31,42,13,15)(21,36)(28,29)\n",
      "\n",
      "(1,9,35)(2,36,45,23,20,44,37)(3,33,27)(4,18,10,7)(5,28,26,21)(6,17,11)(8,25,19)(12,34,29,31,42,13,15)(14,48,22,46,32,41,40,38,16)(24,30,43)\n",
      "(1,9,35)(2,36,45,21,5,7,4,20,44,37)(3,33,27)(6,22,46,32,30,25,17,41,40,38,43,19,11,16,14,48,24,8)(10,13,15,12,34,29,31,28,26,18)\n",
      "(1,9,35)(2,5,7,4,20,44,37)(3,8,6,22,46,27,19,11,16,14,33,25,17,41,40)(10,13,15,12,34,26,18)\n",
      "(1,17,41,40)(4,20,44,37)(6,22,46,35)(9,11,16,14)(10,13,15,12)\n",
      "(1,25,33,9,19,27,35,8,3)(2,4,20,44,37,7,5)(6,22,46,11,16,14,17,41,40)(10,13,15,12,18,26,34)\n",
      "\n",
      "()\n"
     ]
    }
   ],
   "source": [
    "ine = (L*U*R*F*R)  #configuration \n",
    "print(ine)\n",
    "print()\n",
    "print(ine*R*R*R)\n",
    "print(ine*R*R*R*F*F*F)\n",
    "print(ine*R*R*R*F*F*F*R*R*R)\n",
    "print(ine*R*R*R*F*F*F*R*R*R*U*U*U)\n",
    "print(ine*R*R*R*F*F*F*R*R*R*U*U*U*U*U*U)\n",
    "print()\n",
    "print(ine.inverse()*ine)   #R*R*R*F*F*F*R*R*R*U*U*U*U*U*U*B*B*B*F*F*F"
   ]
  },
  {
   "cell_type": "code",
   "execution_count": 2,
   "metadata": {
    "vscode": {
     "languageId": "python"
    }
   },
   "outputs": [],
   "source": [
    "def transpositions(x):\n",
    "    number_cycles = 0\n",
    "    lst = []\n",
    "\n",
    "    for _ in x:\n",
    "        number_cycles += 1\n",
    "\n",
    "    for j in range(number_cycles):\n",
    "        a = x.cycle_tuples()[j]\n",
    "        for i in range(1, len(a)):    \n",
    "            lst.append((a[0],a[-i]))\n",
    "    print(lst) #'return' for checking if 'something' in lst\n",
    "#inp = input(\"Enter an element\")\n"
   ]
  },
  {
   "cell_type": "code",
   "execution_count": 3,
   "metadata": {
    "vscode": {
     "languageId": "python"
    }
   },
   "outputs": [
    {
     "name": "stdout",
     "output_type": "stream",
     "text": [
      "7\n",
      "7\n"
     ]
    }
   ],
   "source": [
    "cycle_length = 0\n",
    "ll = (L*U).cycle_tuples()[1]\n",
    "for i in range(20):\n",
    "        try:\n",
    "            ll[i]\n",
    "            cycle_length += 1\n",
    "        except IndexError:\n",
    "            break\n",
    "print(len(ll))\n",
    "print(cycle_length)"
   ]
  },
  {
   "cell_type": "code",
   "execution_count": 74,
   "metadata": {
    "vscode": {
     "languageId": "python"
    }
   },
   "outputs": [
    {
     "name": "stdout",
     "output_type": "stream",
     "text": [
      "initial = (1,9,35)(2,45,23,20,44,37)(3,48,22,46,30,19,33,32,41,40,43,8,27,38,16,14,24,25)(4,18,10,7)(5,26)(6,17,11)(12,34,31,42,13,15)(21,36)(28,29)\n",
      "\n",
      "[(1, 35), (1, 9), (2, 37), (2, 44), (2, 20), (2, 23), (2, 45), (3, 25), (3, 24), (3, 14), (3, 16), (3, 38), (3, 27), (3, 8), (3, 43), (3, 40), (3, 41), (3, 32), (3, 33), (3, 19), (3, 30), (3, 46), (3, 22), (3, 48), (4, 7), (4, 10), (4, 18), (5, 26), (6, 11), (6, 17), (12, 15), (12, 13), (12, 42), (12, 31), (12, 34), (21, 36), (28, 29)]\n",
      "[(3, 38), (3, 43), (3, 19), (5, 36), (5, 45), (5, 21), (8, 33), (8, 48), (8, 24), (25, 27), (25, 32), (25, 30), (26, 29), (26, 31), (26, 28)]\n",
      "\n",
      "[(1, 35), (1, 9), (2, 37), (2, 44), (2, 20), (2, 23), (2, 45), (2, 36), (3, 27), (3, 33), (4, 7), (4, 10), (4, 18), (5, 21), (5, 26), (5, 28), (6, 11), (6, 17), (8, 19), (8, 25), (12, 15), (12, 13), (12, 42), (12, 31), (12, 29), (12, 34), (14, 16), (14, 38), (14, 40), (14, 41), (14, 32), (14, 46), (14, 22), (14, 48), (24, 43), (24, 30)]\n",
      "[(6, 25), (6, 43), (6, 16), (7, 28), (7, 42), (7, 13), (8, 30), (8, 41), (8, 11), (17, 19), (17, 24), (17, 22), (18, 21), (18, 23), (18, 20)]\n",
      "\n",
      "[(1, 35), (1, 9), (2, 37), (2, 44), (2, 20), (2, 4), (2, 7), (2, 5), (2, 21), (2, 45), (2, 36), (3, 27), (3, 33), (6, 8), (6, 24), (6, 48), (6, 14), (6, 16), (6, 11), (6, 19), (6, 43), (6, 38), (6, 40), (6, 41), (6, 17), (6, 25), (6, 30), (6, 32), (6, 46), (6, 22), (10, 18), (10, 26), (10, 28), (10, 31), (10, 29), (10, 34), (10, 12), (10, 15), (10, 13)]\n",
      "[(3, 38), (3, 43), (3, 19), (5, 36), (5, 45), (5, 21), (8, 33), (8, 48), (8, 24), (25, 27), (25, 32), (25, 30), (26, 29), (26, 31), (26, 28)]\n",
      "\n",
      "[(1, 35), (1, 9), (2, 37), (2, 44), (2, 20), (2, 4), (2, 7), (2, 5), (3, 40), (3, 41), (3, 17), (3, 25), (3, 33), (3, 14), (3, 16), (3, 11), (3, 19), (3, 27), (3, 46), (3, 22), (3, 6), (3, 8), (10, 18), (10, 26), (10, 34), (10, 12), (10, 15), (10, 13)]\n",
      "[(1, 3), (1, 8), (1, 6), (2, 5), (2, 7), (2, 4), (9, 33), (9, 25), (9, 17), (10, 34), (10, 26), (10, 18), (11, 35), (11, 27), (11, 19)]\n",
      "\n",
      "[(1, 40), (1, 41), (1, 17), (4, 37), (4, 44), (4, 20), (6, 35), (6, 46), (6, 22), (9, 14), (9, 16), (9, 11), (10, 12), (10, 15), (10, 13)]\n",
      "[(1, 17), (1, 41), (1, 40), (4, 20), (4, 44), (4, 37), (6, 22), (6, 46), (6, 35), (9, 11), (9, 16), (9, 14), (10, 13), (10, 15), (10, 12)]\n",
      "\n",
      "[]\n"
     ]
    }
   ],
   "source": [
    "print(f\"initial = {ine}\")\n",
    "print()\n",
    "\n",
    "transpositions(ine)\n",
    "transpositions(r)\n",
    "\n",
    "print()\n",
    "\n",
    "transpositions(ine*r)\n",
    "transpositions(f)\n",
    "\n",
    "print()\n",
    "\n",
    "transpositions(ine*r*f)\n",
    "transpositions(r)\n",
    "\n",
    "print()\n",
    "\n",
    "transpositions(ine*r*f*r)\n",
    "transpositions(u)\n",
    "\n",
    "print()\n",
    "\n",
    "transpositions(ine*r*f*r*u)\n",
    "transpositions(l)\n",
    "\n",
    "print()\n",
    "\n",
    "transpositions(ine*r*f*r*u*l)\n"
   ]
  },
  {
   "cell_type": "code",
   "execution_count": null,
   "metadata": {
    "vscode": {
     "languageId": "python"
    }
   },
   "outputs": [],
   "source": [
    "b = (8,3)\n",
    "a = transpositions(L)\n",
    "if b in a:\n",
    "    print('yes')\n",
    "else:\n",
    "    print('no')"
   ]
  },
  {
   "cell_type": "code",
   "execution_count": 4,
   "metadata": {
    "vscode": {
     "languageId": "python"
    }
   },
   "outputs": [
    {
     "name": "stdout",
     "output_type": "stream",
     "text": [
      "(6,25,43,16)(7,28,42,13)(8,30,41,11)(17,19,24,22)(18,21,23,20)\n"
     ]
    }
   ],
   "source": [
    "print(F)"
   ]
  },
  {
   "cell_type": "code",
   "execution_count": 24,
   "metadata": {
    "vscode": {
     "languageId": "python"
    }
   },
   "outputs": [
    {
     "name": "stdout",
     "output_type": "stream",
     "text": [
      "initial = (1,17,41,40)(4,20,44,37)(6,22,46,35)(9,11,16,14)(10,13,15,12)\n",
      "\n",
      "[(1, 40), (1, 41), (1, 17), (4, 37), (4, 44), (4, 20), (6, 35), (6, 46), (6, 22), (9, 14), (9, 16), (9, 11), (10, 12), (10, 15), (10, 13)]\n",
      "[(6, 25), (6, 43), (6, 16), (7, 28), (7, 42), (7, 13), (8, 30), (8, 41), (8, 11), (17, 19), (17, 24), (17, 22), (18, 21), (18, 23), (18, 20)]\n",
      "\n",
      "[(1, 14), (1, 48), (1, 27), (2, 12), (2, 47), (2, 29), (3, 9), (3, 46), (3, 32), (33, 35), (33, 40), (33, 38), (34, 37), (34, 39), (34, 36)]\n",
      "[(1, 17), (1, 41), (1, 40), (4, 20), (4, 44), (4, 37), (6, 22), (6, 46), (6, 35), (9, 11), (9, 16), (9, 14), (10, 13), (10, 15), (10, 12)]\n",
      "[(3, 38), (3, 43), (3, 19), (5, 36), (5, 45), (5, 21), (8, 33), (8, 48), (8, 24), (25, 27), (25, 32), (25, 30), (26, 29), (26, 31), (26, 28)]\n",
      "[(1, 3), (1, 8), (1, 6), (2, 5), (2, 7), (2, 4), (9, 33), (9, 25), (9, 17), (10, 34), (10, 26), (10, 18), (11, 35), (11, 27), (11, 19)]\n",
      "[(14, 22), (14, 30), (14, 38), (15, 23), (15, 31), (15, 39), (16, 24), (16, 32), (16, 40), (41, 43), (41, 48), (41, 46), (42, 45), (42, 47), (42, 44)]\n",
      "[(6, 16), (6, 43), (6, 25), (7, 13), (7, 42), (7, 28), (8, 11), (8, 41), (8, 30), (17, 22), (17, 24), (17, 19), (18, 20), (18, 23), (18, 21)]\n",
      "[(1, 27), (1, 48), (1, 14), (2, 29), (2, 47), (2, 12), (3, 32), (3, 46), (3, 9), (33, 38), (33, 40), (33, 35), (34, 36), (34, 39), (34, 37)]\n",
      "[(1, 40), (1, 41), (1, 17), (4, 37), (4, 44), (4, 20), (6, 35), (6, 46), (6, 22), (9, 14), (9, 16), (9, 11), (10, 12), (10, 15), (10, 13)]\n",
      "[(3, 19), (3, 43), (3, 38), (5, 21), (5, 45), (5, 36), (8, 24), (8, 48), (8, 33), (25, 30), (25, 32), (25, 27), (26, 28), (26, 31), (26, 29)]\n",
      "[(1, 6), (1, 8), (1, 3), (2, 4), (2, 7), (2, 5), (9, 17), (9, 25), (9, 33), (10, 18), (10, 26), (10, 34), (11, 19), (11, 27), (11, 35)]\n",
      "[(14, 38), (14, 30), (14, 22), (15, 39), (15, 31), (15, 23), (16, 40), (16, 32), (16, 24), (41, 46), (41, 48), (41, 43), (42, 44), (42, 47), (42, 45)]\n"
     ]
    }
   ],
   "source": [
    "print(f\"initial = {ine*r*f*r*u}\")\n",
    "print()\n",
    "transpositions(ine*r*f*r*u)\n",
    "transpositions(f)\n",
    "print()\n",
    "transpositions(b)\n",
    "transpositions(l)\n",
    "transpositions(r)\n",
    "transpositions(u)\n",
    "transpositions(d)\n",
    "transpositions(F)\n",
    "transpositions(B)\n",
    "transpositions(L)\n",
    "transpositions(R)\n",
    "transpositions(U)\n",
    "transpositions(D)"
   ]
  },
  {
   "cell_type": "code",
   "execution_count": null,
   "metadata": {
    "vscode": {
     "languageId": "python"
    }
   },
   "outputs": [],
   "source": []
  },
  {
   "cell_type": "code",
   "execution_count": null,
   "metadata": {
    "vscode": {
     "languageId": "python"
    }
   },
   "outputs": [],
   "source": [
    "first move of r\n",
    "\n",
    "common elements of initial in f = 0\n",
    "common elements of initial in b = 1\n",
    "common elements of initial in l = 3\n",
    "common elements of initial in r = 0\n",
    "common elements of initial in u = 3\n",
    "common elements of initial in d = 0\n",
    "common elements of initial in F = 0\n",
    "common elements of initial in B = 1\n",
    "common elements of initial in L = 3\n",
    "common elements of initial in R = 0\n",
    "common elements of initial in U = 3\n",
    "common elements of initial in D = 0\n",
    "\n",
    "second move of f\n",
    "\n",
    "common elements of initial in f = 2\n",
    "common elements of initial in b = 2\n",
    "common elements of initial in l = 1\n",
    "common elements of initial in r = 0\n",
    "common elements of initial in u = 3\n",
    "common elements of initial in d = 0\n",
    "common elements of initial in F = 2\n",
    "common elements of initial in B = 2\n",
    "common elements of initial in L = 1\n",
    "common elements of initial in R = 0\n",
    "common elements of initial in U = 3\n",
    "common elements of initial in D = 0\n",
    "\n",
    "Third move of r\n",
    "\n",
    "common elements of initial in f = 0\n",
    "common elements of initial in b = 1\n",
    "common elements of initial in l = 2\n",
    "common elements of initial in r = 1\n",
    "common elements of initial in u = 3\n",
    "common elements of initial in d = 0\n",
    "common elements of initial in F = 0\n",
    "common elements of initial in B = 1\n",
    "common elements of initial in L = 2\n",
    "common elements of initial in R = 3\n",
    "common elements of initial in U = 3\n",
    "common elements of initial in D = 0\n",
    "\n",
    "fourth move of U\n",
    "\n",
    "common elements of initial in f = 0\n",
    "common elements of initial in b = 0\n",
    "common elements of initial in l = 0\n",
    "common elements of initial in r = 0\n",
    "common elements of initial in u = 5\n",
    "common elements of initial in d = 0\n",
    "common elements of initial in F = 0\n",
    "common elements of initial in B = 0\n",
    "common elements of initial in L = 0\n",
    "common elements of initial in R = 0\n",
    "common elements of initial in U = 5\n",
    "common elements of initial in D = 0\n",
    "\n",
    "fourth move of U\n",
    "\n",
    "common elements of initial in f = 0\n",
    "common elements of initial in b = 0\n",
    "common elements of initial in l = 0\n",
    "common elements of initial in r = 0\n",
    "common elements of initial in u = 15\n",
    "common elements of initial in d = 0\n",
    "common elements of initial in F = 0\n",
    "common elements of initial in B = 0\n",
    "common elements of initial in L = 0\n",
    "common elements of initial in R = 0\n",
    "\n",
    "common elements of initial in U = 15\n",
    "common elements of initial in D = 0"
   ]
  },
  {
   "cell_type": "code",
   "execution_count": 6,
   "metadata": {
    "vscode": {
     "languageId": "python"
    }
   },
   "outputs": [
    {
     "name": "stdout",
     "output_type": "stream",
     "text": [
      "(1,9,35)(2,45,23,20,44,37)(3,48,22,46,30,19,33,32,41,40,43,8,27,38,16,14,24,25)(4,18,10,7)(5,26)(6,17,11)(12,34,31,42,13,15)(21,36)(28,29)\n",
      "(1,9,35)(2,18,10,13,15,12,34,7,4,20,44,37)(3,43,8,27,30,19,33,24,25)(5,26)(6,22,46)(11,16,14)(17,41,40)(21,36)(28,29)\n"
     ]
    },
    {
     "data": {
      "text/plain": [
       "(3,19,43,38)(5,21,45,36)(8,24,48,33)(25,30,32,27)(26,28,31,29)"
      ]
     },
     "execution_count": 6,
     "metadata": {},
     "output_type": "execute_result"
    }
   ],
   "source": [
    "print(ine)\n",
    "print(ine*R*f*r)\n",
    "#print(ine*f)\n",
    "#f\n",
    "r"
   ]
  },
  {
   "cell_type": "code",
   "execution_count": 4,
   "metadata": {
    "vscode": {
     "languageId": "python"
    }
   },
   "outputs": [
    {
     "name": "stdout",
     "output_type": "stream",
     "text": [
      "             +--------------+\n",
      "             |  1    2    3 |\n",
      "             |  4   top   5 |\n",
      "             |  6    7    8 |\n",
      "+------------+--------------+-------------+------------+\n",
      "|  9  10  11 | 17   18   19 | 25   26  27 | 33  34  35 |\n",
      "| 12 left 13 | 20  front 21 | 28 right 29 | 36 rear 37 |\n",
      "| 14  15  16 | 22   23   24 | 30   31  32 | 38  39  40 |\n",
      "+------------+--------------+-------------+------------+\n",
      "             | 41   42   43 |\n",
      "             | 44 bottom 45 |\n",
      "             | 46   47   48 |\n",
      "             +--------------+\n",
      "\n"
     ]
    }
   ],
   "source": [
    "map = CubeGroup()\n",
    "map.display2d('')"
   ]
  },
  {
   "cell_type": "code",
   "execution_count": 5,
   "metadata": {
    "vscode": {
     "languageId": "python"
    }
   },
   "outputs": [
    {
     "name": "stdout",
     "output_type": "stream",
     "text": [
      "             +--------------+\n",
      "             |  1    2   38 |\n",
      "             |  4   top  36 |\n",
      "             |  6    7   33 |\n",
      "+------------+--------------+-------------+------------+\n",
      "|  9  10  11 | 17   18    3 | 27   29  32 | 48  34  35 |\n",
      "| 12 left 13 | 20  front  5 | 26 right 31 | 45 rear 37 |\n",
      "| 14  15  16 | 22   23    8 | 25   28  30 | 43  39  40 |\n",
      "+------------+--------------+-------------+------------+\n",
      "             | 41   42   19 |\n",
      "             | 44 bottom 21 |\n",
      "             | 46   47   24 |\n",
      "             +--------------+\n",
      "\n",
      "(3,38,43,19)(5,36,45,21)(8,33,48,24)(25,27,32,30)(26,29,31,28)\n"
     ]
    }
   ],
   "source": [
    "map.display2d('R')\n",
    "print(R)"
   ]
  },
  {
   "cell_type": "code",
   "execution_count": 8,
   "metadata": {
    "vscode": {
     "languageId": "python"
    }
   },
   "outputs": [
    {
     "data": {
      "text/plain": [
       "'down'"
      ]
     },
     "execution_count": 8,
     "metadata": {},
     "output_type": "execute_result"
    }
   ],
   "source": [
    "def find(pos):\n",
    "    for i in range(6):\n",
    "        for j in range(0, 3):\n",
    "            if pos in a[i][1][j]:\n",
    "                return(a[i][0])\n",
    "            \n",
    "find(45)"
   ]
  },
  {
   "cell_type": "code",
   "execution_count": 7,
   "metadata": {
    "vscode": {
     "languageId": "python"
    }
   },
   "outputs": [
    {
     "data": {
      "text/plain": [
       "[('back', [[33, 34, 35], [36, 0, 37], [38, 39, 40]]),\n",
       " ('down', [[41, 42, 43], [44, 0, 45], [46, 47, 48]]),\n",
       " ('front', [[17, 18, 19], [20, 0, 21], [22, 23, 24]]),\n",
       " ('left', [[9, 10, 11], [12, 0, 13], [14, 15, 16]]),\n",
       " ('right', [[25, 26, 27], [28, 0, 29], [30, 31, 32]]),\n",
       " ('up', [[1, 2, 3], [4, 0, 5], [6, 7, 8]])]"
      ]
     },
     "execution_count": 7,
     "metadata": {},
     "output_type": "execute_result"
    }
   ],
   "source": [
    "a = sorted(map.faces(\"\").items())\n",
    "a"
   ]
  },
  {
   "cell_type": "code",
   "execution_count": null,
   "metadata": {
    "vscode": {
     "languageId": "python"
    }
   },
   "outputs": [],
   "source": []
  },
  {
   "cell_type": "code",
   "execution_count": null,
   "metadata": {
    "vscode": {
     "languageId": "python"
    }
   },
   "outputs": [],
   "source": []
  },
  {
   "cell_type": "code",
   "execution_count": null,
   "metadata": {
    "vscode": {
     "languageId": "python"
    }
   },
   "outputs": [],
   "source": []
  },
  {
   "cell_type": "code",
   "execution_count": null,
   "metadata": {
    "vscode": {
     "languageId": "python"
    }
   },
   "outputs": [],
   "source": []
  },
  {
   "cell_type": "code",
   "execution_count": 64,
   "metadata": {
    "vscode": {
     "languageId": "python"
    }
   },
   "outputs": [
    {
     "name": "stdout",
     "output_type": "stream",
     "text": [
      "fdf\n",
      "fdf\n",
      "fdf\n",
      "fdf\n",
      "fdf\n",
      "ok\n",
      "fdf\n",
      "fdf\n"
     ]
    }
   ],
   "source": [
    "for i in range(1, 9):\n",
    "    if find(i) == 'back':\n",
    "        if i == 1:\n",
    "            if a[0][1][0][0] == 1:   #at 33\n",
    "                configuration()*L*L\n",
    "            elif a[0][1][0][2] == 1: #at 35\n",
    "            \n",
    "            elif a[0][1][2][0] == 1: #at 38\n",
    "\n",
    "            elif a[0][1][2][2] == 1: #at 40\n",
    "\n",
    "            \n",
    "        elif i == 2:\n",
    "            if a[0][1][0][1] == 2:   #at 34\n",
    "                \n",
    "            elif a[0][1][1][0] == 2: #at 36\n",
    "            \n",
    "            elif a[0][1][1][2] == 2: #at 37\n",
    "\n",
    "            elif a[0][1][2][1] == 2: #at 39\n",
    "\n",
    "        elif i == 3:\n",
    "            if a[0][1][0][0] == 3:   #at 33\n",
    "               \n",
    "            elif a[0][1][0][2] == 3: #at 35\n",
    "            \n",
    "            elif a[0][1][2][0] == 3: #at 38\n",
    "\n",
    "            elif a[0][1][2][2] == 3: #at 40\n",
    "\n",
    "\n",
    "        elif i == 4:\n",
    "            if a[0][1][0][1] == 4:   #at 34\n",
    "                \n",
    "            elif a[0][1][1][0] == 4: #at 36\n",
    "            \n",
    "            elif a[0][1][1][2] == 4: #at 37\n",
    "\n",
    "            elif a[0][1][2][1] == 4: #at 39\n",
    "\n",
    "        elif i == 5:\n",
    "            if a[0][1][0][1] == 5:   #at 34\n",
    "                \n",
    "            elif a[0][1][1][0] == 5: #at 36\n",
    "            \n",
    "            elif a[0][1][1][2] == 5: #at 37\n",
    "\n",
    "            elif a[0][1][2][1] == 5: #at 39\n",
    "\n",
    "        elif i == 6:\n",
    "            if a[0][1][0][0] == 6:   #at 33\n",
    "                \n",
    "            elif a[0][1][0][2] == 6: #at 35\n",
    "            \n",
    "            elif a[0][1][2][0] == 6: #at 38\n",
    "\n",
    "            elif a[0][1][2][2] == 6: #at 40\n",
    "            \n",
    "\n",
    "        elif i == 7:\n",
    "            if a[0][1][0][1] == 7:   #at 34\n",
    "                \n",
    "            elif a[0][1][1][0] == 7: #at 36\n",
    "            \n",
    "            elif a[0][1][1][2] == 7: #at 37\n",
    "\n",
    "            elif a[0][1][2][1] == 7: #at 39\n",
    "            \n",
    "        else:\n",
    "            if a[0][1][0][0] == 8:   #at 33\n",
    "                \n",
    "            elif a[0][1][0][2] == 8: #at 35\n",
    "            \n",
    "            elif a[0][1][2][0] == 8: #at 38\n",
    "\n",
    "            elif a[0][1][2][2] == 8: #at 40\n",
    "    ####################################################################################\n",
    "    elif find(i) == 'down':\n",
    "                    \n",
    "            if a[1][1][0][1] == 1:   #at 41\n",
    "            \n",
    "            elif a[1][1][0][2] == 1: #at 43\n",
    "            \n",
    "            elif a[1][1][2][0] == 1: #at 46\n",
    "\n",
    "            elif a[1][1][2][2] == 1: #at 48\n",
    "\n",
    "            \n",
    "        elif i == 2:\n",
    "            if a[1][1][0][1] == 2:   #at 42\n",
    "                \n",
    "            elif a[1][1][1][0] == 2: #at 44\n",
    "            \n",
    "            elif a[1][1][1][2] == 2: #at 45\n",
    "\n",
    "            elif a[1][1][2][1] == 2: #at 47\n",
    "\n",
    "        elif i == 3:\n",
    "            if a[1][1][0][0] == 3:   #at 41\n",
    "               \n",
    "            elif a[1][1][0][2] == 3: #at 43\n",
    "            \n",
    "            elif a[1][1][2][0] == 3: #at 46\n",
    "\n",
    "            elif a[1][1][2][2] == 3: #at 48\n",
    "\n",
    "\n",
    "        elif i == 4:\n",
    "            if a[1][1][0][1] == 4:   #at 42\n",
    "                \n",
    "            elif a[1][1][1][0] == 4: #at 44\n",
    "            \n",
    "            elif a[1][1][1][2] == 4: #at 45\n",
    "\n",
    "            elif a[1][1][2][1] == 4: #at 47\n",
    "\n",
    "        elif i == 5:\n",
    "            if a[1][1][0][1] == 5:   #at 42\n",
    "                \n",
    "            elif a[1][1][1][0] == 5: #at 44\n",
    "            \n",
    "            elif a[1][1][1][2] == 5: #at 45\n",
    "\n",
    "            elif a[1][1][2][1] == 5: #at 47\n",
    "\n",
    "        elif i == 6:\n",
    "            if a[1][1][0][0] == 6:   #at 41\n",
    "                \n",
    "            elif a[1][1][0][2] == 6: #at 43\n",
    "            \n",
    "            elif a[1][1][2][0] == 6: #at 46\n",
    "\n",
    "            elif a[1][1][2][2] == 6: #at 48\n",
    "            \n",
    "\n",
    "        elif i == 7:\n",
    "            if a[1][1][0][1] == 7:   #at 42\n",
    "                \n",
    "            elif a[1][1][1][0] == 7: #at 44\n",
    "            \n",
    "            elif a[1][1][1][2] == 7: #at 45\n",
    "\n",
    "            elif a[1][1][2][1] == 7: #at 47\n",
    "            \n",
    "        else:\n",
    "            if a[1][1][0][0] == 8:   #at 41\n",
    "                \n",
    "            elif a[1][1][0][2] == 8: #at 43\n",
    "            \n",
    "            elif a[1][1][2][0] == 8: #at 46\n",
    "\n",
    "            elif a[1][1][2][2] == 8: #at 48\n",
    "        \n",
    "    ####################################################################################\n",
    "    elif find(i) == 'front':\n",
    "        if i == 1:\n",
    "            if a[2][1][0][0] == 1:   #at \n",
    "                configuration()*L*L\n",
    "            elif a[2][1][0][2] == 1: #at \n",
    "            \n",
    "            elif a[2][1][2][0] == 1: #at \n",
    "\n",
    "            elif a[2][1][2][2] == 1: #at \n",
    "\n",
    "            \n",
    "        elif i == 2:\n",
    "            if a[2][1][0][1] == 2:   #at 34\n",
    "                \n",
    "            elif a[2][1][1][0] == 2: #at 36\n",
    "            \n",
    "            elif a[2][1][1][2] == 2: #at 37\n",
    "\n",
    "            elif a[2][1][2][1] == 2: #at 39\n",
    "\n",
    "        elif i == 3:\n",
    "            if a[2][1][0][0] == 3:   #at 33\n",
    "               \n",
    "            elif a[2][1][0][2] == 3: #at 35\n",
    "            \n",
    "            elif a[2][1][2][0] == 3: #at 38\n",
    "\n",
    "            elif a[2][1][2][2] == 3: #at 40\n",
    "\n",
    "\n",
    "        elif i == 4:\n",
    "            if a[2][1][0][1] == 4:   #at 34\n",
    "                \n",
    "            elif a[2][1][1][0] == 4: #at 36\n",
    "            \n",
    "            elif a[2][1][1][2] == 4: #at 37\n",
    "\n",
    "            elif a[2][1][2][1] == 4: #at 39\n",
    "\n",
    "        elif i == 5:\n",
    "            if a[2][1][0][1] == 5:   #at 34\n",
    "                \n",
    "            elif a[2][1][1][0] == 5: #at 36\n",
    "            \n",
    "            elif a[2][1][1][2] == 5: #at 37\n",
    "\n",
    "            elif a[2][1][2][1] == 5: #at 39\n",
    "\n",
    "        elif i == 6:\n",
    "            if a[2][1][0][0] == 6:   #at 33\n",
    "                \n",
    "            elif a[2][1][0][2] == 6: #at 35\n",
    "            \n",
    "            elif a[2][1][2][0] == 6: #at 38\n",
    "\n",
    "            elif a[2][1][2][2] == 6: #at 40\n",
    "            \n",
    "\n",
    "        elif i == 7:\n",
    "            if a[2][1][0][1] == 7:   #at 34\n",
    "                \n",
    "            elif a[2][1][1][0] == 7: #at 36\n",
    "            \n",
    "            elif a[2][1][1][2] == 7: #at 37\n",
    "\n",
    "            elif a[2][1][2][1] == 7: #at 39\n",
    "            \n",
    "        else:\n",
    "            if a[2][1][0][0] == 8:   #at 33\n",
    "                \n",
    "            elif a[2][1][0][2] == 8: #at 35\n",
    "            \n",
    "            elif a[2][1][2][0] == 8: #at \n",
    "\n",
    "            elif a[2][1][2][2] == 8: #at \n",
    "    #################################################################################################\n",
    "    elif find(i) == 'left':\n",
    "        if i == 1:\n",
    "            if a[3][1][0][0] == 1:   #at \n",
    "                configuration()*L*L\n",
    "            elif a[3][1][0][2] == 1: #at \n",
    "            \n",
    "            elif a[3][1][2][0] == 1: #at \n",
    "\n",
    "            elif a[3][1][2][2] == 1: #at 40\n",
    "\n",
    "            \n",
    "        elif i == 2:\n",
    "            if a[3][1][0][1] == 2:   #at 34\n",
    "                \n",
    "            elif a[3][1][1][0] == 2: #at 36\n",
    "            \n",
    "            elif a[3][1][1][2] == 2: #at 37\n",
    "\n",
    "            elif a[3][1][2][1] == 2: #at 39\n",
    "\n",
    "        elif i == 3:\n",
    "            if a[3][1][0][0] == 3:   #at 33\n",
    "               \n",
    "            elif a[3][1][0][2] == 3: #at 35\n",
    "            \n",
    "            elif a[3][1][2][0] == 3: #at 38\n",
    "\n",
    "            elif a[3][1][2][2] == 3: #at 40\n",
    "\n",
    "\n",
    "        elif i == 4:\n",
    "            if a[3][1][0][1] == 4:   #at 34\n",
    "                \n",
    "            elif a[3][1][1][0] == 4: #at \n",
    "            \n",
    "            elif a[3][1][1][2] == 4: #at 37\n",
    "\n",
    "            elif a[3][1][2][1] == 4: #at 39\n",
    "\n",
    "        elif i == 5:\n",
    "            if a[3][1][0][1] == 5:   #at 34\n",
    "                \n",
    "            elif a[3][1][1][0] == 5: #at 36\n",
    "            \n",
    "            elif a[3][1][1][2] == 5: #at \n",
    "\n",
    "            elif a[3][1][2][1] == 5: #at 39\n",
    "\n",
    "        elif i == 6:\n",
    "            if a[3][1][0][0] == 6:   #at 33\n",
    "                \n",
    "            elif a[3][1][0][2] == 6: #at 35\n",
    "            \n",
    "            elif a[3][1][2][0] == 6: #at \n",
    "\n",
    "            elif a[3][1][2][2] == 6: #at \n",
    "            \n",
    "\n",
    "        elif i == 7:\n",
    "            if a[3][1][0][1] == 7:   #at \n",
    "                \n",
    "            elif a[3][1][1][0] == 7: #at \n",
    "            \n",
    "            elif a[3][1][1][2] == 7: #at \n",
    "\n",
    "            elif a[3][1][2][1] == 7: #at \n",
    "            \n",
    "        else:\n",
    "            if a[3][1][0][0] == 8:   #at \n",
    "                \n",
    "            elif a[3][1][0][2] == 8: #at \n",
    "            \n",
    "            elif a[3][1][2][0] == 8: #at \n",
    "\n",
    "            elif a[3][1][2][2] == 8: #at \n",
    "########################################################################################\n",
    "    elif find(i) == 'right':\n",
    "        if i == 1:\n",
    "            if a[4][1][0][0] == 1:   #at \n",
    "                configuration()*L*L\n",
    "            elif a[4][1][0][2] == 1: #at \n",
    "            \n",
    "            elif a[4][1][2][0] == 1: #at \n",
    "\n",
    "            elif a[4][1][2][2] == 1: #at 40\n",
    "\n",
    "            \n",
    "        elif i == 2:\n",
    "            if a[4][1][0][1] == 2:   #at 34\n",
    "                \n",
    "            elif a[4][1][1][0] == 2: #at 36\n",
    "            \n",
    "            elif a[4][1][1][2] == 2: #at 37\n",
    "\n",
    "            elif a[4][1][2][1] == 2: #at 39\n",
    "\n",
    "        elif i == 3:\n",
    "            if a[4][1][0][0] == 3:   #at 33\n",
    "               \n",
    "            elif a[4][1][0][2] == 3: #at 35\n",
    "            \n",
    "            elif a[4][1][2][0] == 3: #at 38\n",
    "\n",
    "            elif a[4][1][2][2] == 3: #at 40\n",
    "\n",
    "\n",
    "        elif i == 4:\n",
    "            if a[4][1][0][1] == 4:   #at 34\n",
    "                \n",
    "            elif a[4][1][1][0] == 4: #at \n",
    "            \n",
    "            elif a[4][1][1][2] == 4: #at 37\n",
    "\n",
    "            elif a[4][1][2][1] == 4: #at 39\n",
    "\n",
    "        elif i == 5:\n",
    "            if a[4][1][0][1] == 5:   #at 34\n",
    "                \n",
    "            elif a[4][1][1][0] == 5: #at 36\n",
    "            \n",
    "            elif a[4][1][1][2] == 5: #at \n",
    "\n",
    "            elif a[4][1][2][1] == 5: #at 39\n",
    "\n",
    "        elif i == 6:\n",
    "            if a[4][1][0][0] == 6:   #at 33\n",
    "                \n",
    "            elif a[4][1][0][2] == 6: #at 35\n",
    "            \n",
    "            elif a[4][1][2][0] == 6: #at \n",
    "\n",
    "            elif a[4][1][2][2] == 6: #at \n",
    "            \n",
    "\n",
    "        elif i == 7:\n",
    "            if a[4][1][0][1] == 7:   #at \n",
    "                \n",
    "            elif a[4][1][1][0] == 7: #at \n",
    "            \n",
    "            elif a[4][1][1][2] == 7: #at \n",
    "\n",
    "            elif a[4][1][2][1] == 7: #at \n",
    "            \n",
    "        else:\n",
    "            if a[4][1][0][0] == 8:   #at \n",
    "                \n",
    "            elif a[4][1][0][2] == 8: #at \n",
    "            \n",
    "            elif a[4][1][2][0] == 8: #at \n",
    "\n",
    "            elif a[4][1][2][2] == 8: #at \n",
    "############################################################################\n",
    "    else:\n",
    "        if i == 1:\n",
    "            if a[5][1][0][0] == 1:   #at \n",
    "                configuration()*L*L\n",
    "            elif a[5][1][0][2] == 1: #at \n",
    "            \n",
    "            elif a[5][1][2][0] == 1: #at \n",
    "\n",
    "            elif a[5][1][2][2] == 1: #at 40\n",
    "\n",
    "            \n",
    "        elif i == 2:\n",
    "            if a[5][1][0][1] == 2:   #at 34\n",
    "                \n",
    "            elif a[5][1][1][0] == 2: #at 36\n",
    "            \n",
    "            elif a[5][1][1][2] == 2: #at 37\n",
    "\n",
    "            elif a[5][1][2][1] == 2: #at 39\n",
    "\n",
    "        elif i == 3:\n",
    "            if a[5][1][0][0] == 3:   #at 33\n",
    "               \n",
    "            elif a[5][1][0][2] == 3: #at 35\n",
    "            \n",
    "            elif a[5][1][2][0] == 3: #at 38\n",
    "\n",
    "            elif a[5][1][2][2] == 3: #at 40\n",
    "\n",
    "\n",
    "        elif i == 4:\n",
    "            if a[5][1][0][1] == 4:   #at 34\n",
    "                \n",
    "            elif a[5][1][1][0] == 4: #at \n",
    "            \n",
    "            elif a[5][1][1][2] == 4: #at 37\n",
    "\n",
    "            elif a[5][1][2][1] == 4: #at 39\n",
    "\n",
    "        elif i == 5:\n",
    "            if a[5][1][0][1] == 5:   #at 34\n",
    "                \n",
    "            elif a[5][1][1][0] == 5: #at 36\n",
    "            \n",
    "            elif a[5][1][1][2] == 5: #at \n",
    "\n",
    "            elif a[5][1][2][1] == 5: #at 39\n",
    "\n",
    "        elif i == 6:\n",
    "            if a[5][1][0][0] == 6:   #at 33\n",
    "                \n",
    "            elif a[5][1][0][2] == 6: #at 35\n",
    "            \n",
    "            elif a[5][1][2][0] == 6: #at \n",
    "\n",
    "            elif a[5][1][2][2] == 6: #at \n",
    "            \n",
    "\n",
    "        elif i == 7:\n",
    "            if a[5][1][0][1] == 7:   #at \n",
    "                \n",
    "            elif a[5][1][1][0] == 7: #at \n",
    "            \n",
    "            elif a[5][1][1][2] == 7: #at \n",
    "\n",
    "            elif a[5][1][2][1] == 7: #at \n",
    "            \n",
    "        else:\n",
    "            if a[5][1][0][0] == 8:   #at \n",
    "                \n",
    "            elif a[5][1][0][2] == 8: #at \n",
    "            \n",
    "            elif a[5][1][2][0] == 8: #at \n",
    "\n",
    "            elif a[5][1][2][2] == 8: #at \n",
    "\n",
    "        "
   ]
  },
  {
   "cell_type": "code",
   "execution_count": null,
   "metadata": {
    "vscode": {
     "languageId": "python"
    }
   },
   "outputs": [],
   "source": []
  }
 ],
 "metadata": {
  "kernelspec": {
   "display_name": "SageMath 9.3",
   "language": "sage",
   "name": "sagemath"
  },
  "language_info": {
   "codemirror_mode": {
    "name": "ipython",
    "version": 3
   },
   "file_extension": ".py",
   "mimetype": "text/x-python",
   "name": "sage",
   "nbconvert_exporter": "python",
   "pygments_lexer": "ipython3",
   "version": "3.7.10"
  },
  "orig_nbformat": 4
 },
 "nbformat": 4,
 "nbformat_minor": 2
}
